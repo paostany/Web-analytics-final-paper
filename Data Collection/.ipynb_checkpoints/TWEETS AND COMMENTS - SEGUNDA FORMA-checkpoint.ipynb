{
 "cells": [
  {
   "cell_type": "code",
   "execution_count": 3,
   "metadata": {},
   "outputs": [],
   "source": [
    "from selenium import webdriver\n",
    "import tweepy\n",
    "import csv\n",
    "import pandas as pd\n",
    "from time import sleep\n",
    "from selenium.common.exceptions import NoSuchElementException\n",
    "from bs4 import BeautifulSoup\n",
    "import requests\n",
    "import re\n",
    "from time import sleep\n",
    "from tqdm import tqdm\n",
    "from twython import Twython\n",
    "import advertools as adv"
   ]
  },
  {
   "cell_type": "code",
   "execution_count": 4,
   "metadata": {},
   "outputs": [],
   "source": [
    "auth_params = {\n",
    "    'app_key': '3Fpt5yX0rRcx3HltSvOMLWcnN',\n",
    "    'app_secret': 'WqPVb5ELVOORF2BFM059WqNJCYxXlHRKBcqaQ5Re05J6CV1ZVc',\n",
    "    'oauth_token': '1393767320611442692-nLgQB8fzUWpqFRYqJcBurY8SGrnaCx',\n",
    "    'oauth_token_secret': 'RsLQDfSDYHryndKlJ9CU7rI8hvE3Qlw5hpBhuoJbiqIdH',\n",
    "}"
   ]
  },
  {
   "cell_type": "code",
   "execution_count": 5,
   "metadata": {},
   "outputs": [],
   "source": [
    "twitter = Twython(**auth_params) \n",
    "adv.twitter.set_auth_params(**auth_params)"
   ]
  },
  {
   "cell_type": "markdown",
   "metadata": {},
   "source": [
    "### Palabras a usar:\n",
    "- LGBT, LGBTQ, LGBI+\n",
    "- Homosexual\n",
    "- Gay\n",
    "- Lesbiana"
   ]
  },
  {
   "cell_type": "code",
   "execution_count": 77,
   "metadata": {},
   "outputs": [
    {
     "name": "stderr",
     "output_type": "stream",
     "text": [
      "2021-06-19 10:54:26,439 | INFO | twitter.py:235 | wrapper | search | Requesting: count=100, max_id=None, q=lesbiana, tweet_mode=extended, lang=es\n",
      "2021-06-19 10:54:28,331 | INFO | twitter.py:235 | wrapper | search | Requesting: count=100, max_id=1406272018723520514, q=lesbiana, tweet_mode=extended, lang=es\n",
      "2021-06-19 10:54:29,329 | INFO | twitter.py:235 | wrapper | search | Requesting: count=100, max_id=1406264577957019649, q=lesbiana, tweet_mode=extended, lang=es\n",
      "2021-06-19 10:54:30,057 | INFO | twitter.py:235 | wrapper | search | Requesting: count=100, max_id=1406256998455418883, q=lesbiana, tweet_mode=extended, lang=es\n",
      "2021-06-19 10:54:30,847 | INFO | twitter.py:235 | wrapper | search | Requesting: count=100, max_id=1406248151120592897, q=lesbiana, tweet_mode=extended, lang=es\n"
     ]
    }
   ],
   "source": [
    "python = adv.twitter.search(q='lesbiana', count=500, tweet_mode='extended', lang='es')\n",
    "python.to_csv('python_tweets.csv', index=False) "
   ]
  },
  {
   "cell_type": "code",
   "execution_count": 79,
   "metadata": {},
   "outputs": [
    {
     "data": {
      "text/html": [
       "<div>\n",
       "<style scoped>\n",
       "    .dataframe tbody tr th:only-of-type {\n",
       "        vertical-align: middle;\n",
       "    }\n",
       "\n",
       "    .dataframe tbody tr th {\n",
       "        vertical-align: top;\n",
       "    }\n",
       "\n",
       "    .dataframe thead th {\n",
       "        text-align: right;\n",
       "    }\n",
       "</style>\n",
       "<table border=\"1\" class=\"dataframe\">\n",
       "  <thead>\n",
       "    <tr style=\"text-align: right;\">\n",
       "      <th></th>\n",
       "      <th>TWEET_ID</th>\n",
       "      <th>COMENTARIO</th>\n",
       "    </tr>\n",
       "  </thead>\n",
       "  <tbody>\n",
       "    <tr>\n",
       "      <th>0</th>\n",
       "      <td>1406279207190208513</td>\n",
       "      <td>RT @prxttylesbian: odio que me digan ''sos re ...</td>\n",
       "    </tr>\n",
       "    <tr>\n",
       "      <th>1</th>\n",
       "      <td>1406279093734281219</td>\n",
       "      <td>RT @AlbaliaFics: soy lesbiana… muy muy lesbian...</td>\n",
       "    </tr>\n",
       "    <tr>\n",
       "      <th>2</th>\n",
       "      <td>1406279087149223936</td>\n",
       "      <td>@Desbihada Sinceramente, creo que depende de l...</td>\n",
       "    </tr>\n",
       "    <tr>\n",
       "      <th>3</th>\n",
       "      <td>1406279049211691012</td>\n",
       "      <td>@silaswave @Desbihada Bueno, yo sí he hablado ...</td>\n",
       "    </tr>\n",
       "    <tr>\n",
       "      <th>4</th>\n",
       "      <td>1406278977841516553</td>\n",
       "      <td>RT @BeatrizGimeno1: Ayer asistí a la presentac...</td>\n",
       "    </tr>\n",
       "    <tr>\n",
       "      <th>...</th>\n",
       "      <td>...</td>\n",
       "      <td>...</td>\n",
       "    </tr>\n",
       "    <tr>\n",
       "      <th>495</th>\n",
       "      <td>1406237155488374785</td>\n",
       "      <td>@maneskinat felicidades lesbiana te amo</td>\n",
       "    </tr>\n",
       "    <tr>\n",
       "      <th>496</th>\n",
       "      <td>1406237083602239490</td>\n",
       "      <td>Cada día más orgullosa de ser lesbiana y no ce...</td>\n",
       "    </tr>\n",
       "    <tr>\n",
       "      <th>497</th>\n",
       "      <td>1406236954514100226</td>\n",
       "      <td>RT @Desbihada: Una cosa más antes de ausentarm...</td>\n",
       "    </tr>\n",
       "    <tr>\n",
       "      <th>498</th>\n",
       "      <td>1406236573637791747</td>\n",
       "      <td>el episodio de los simpsons en el q marge se v...</td>\n",
       "    </tr>\n",
       "    <tr>\n",
       "      <th>499</th>\n",
       "      <td>1406236372143382531</td>\n",
       "      <td>RT @Luestevez__: yo lesbiana subiendo una foto...</td>\n",
       "    </tr>\n",
       "  </tbody>\n",
       "</table>\n",
       "<p>500 rows × 2 columns</p>\n",
       "</div>"
      ],
      "text/plain": [
       "                TWEET_ID                                         COMENTARIO\n",
       "0    1406279207190208513  RT @prxttylesbian: odio que me digan ''sos re ...\n",
       "1    1406279093734281219  RT @AlbaliaFics: soy lesbiana… muy muy lesbian...\n",
       "2    1406279087149223936  @Desbihada Sinceramente, creo que depende de l...\n",
       "3    1406279049211691012  @silaswave @Desbihada Bueno, yo sí he hablado ...\n",
       "4    1406278977841516553  RT @BeatrizGimeno1: Ayer asistí a la presentac...\n",
       "..                   ...                                                ...\n",
       "495  1406237155488374785            @maneskinat felicidades lesbiana te amo\n",
       "496  1406237083602239490  Cada día más orgullosa de ser lesbiana y no ce...\n",
       "497  1406236954514100226  RT @Desbihada: Una cosa más antes de ausentarm...\n",
       "498  1406236573637791747  el episodio de los simpsons en el q marge se v...\n",
       "499  1406236372143382531  RT @Luestevez__: yo lesbiana subiendo una foto...\n",
       "\n",
       "[500 rows x 2 columns]"
      ]
     },
     "execution_count": 79,
     "metadata": {},
     "output_type": "execute_result"
    }
   ],
   "source": [
    "python2 = python.rename(columns={'tweet_id':'TWEET_ID',\n",
    "                                   'tweet_full_text':'COMENTARIO'})\n",
    "comentarios_dataframe= pd.DataFrame(python2, columns=['TWEET_ID','COMENTARIO'])\n",
    "comentarios_dataframe.to_excel('Data/tweets_6.xlsx')\n",
    "comentarios_dataframe"
   ]
  },
  {
   "cell_type": "code",
   "execution_count": 83,
   "metadata": {},
   "outputs": [
    {
     "data": {
      "text/html": [
       "<div>\n",
       "<style scoped>\n",
       "    .dataframe tbody tr th:only-of-type {\n",
       "        vertical-align: middle;\n",
       "    }\n",
       "\n",
       "    .dataframe tbody tr th {\n",
       "        vertical-align: top;\n",
       "    }\n",
       "\n",
       "    .dataframe thead th {\n",
       "        text-align: right;\n",
       "    }\n",
       "</style>\n",
       "<table border=\"1\" class=\"dataframe\">\n",
       "  <thead>\n",
       "    <tr style=\"text-align: right;\">\n",
       "      <th></th>\n",
       "      <th>TWEET_ID</th>\n",
       "      <th>COMENTARIO</th>\n",
       "    </tr>\n",
       "  </thead>\n",
       "  <tbody>\n",
       "    <tr>\n",
       "      <th>0</th>\n",
       "      <td>1406279207190208513</td>\n",
       "      <td>RT @prxttylesbian: odio que me digan ''sos re ...</td>\n",
       "    </tr>\n",
       "    <tr>\n",
       "      <th>1</th>\n",
       "      <td>1406279093734281219</td>\n",
       "      <td>RT @AlbaliaFics: soy lesbiana… muy muy lesbian...</td>\n",
       "    </tr>\n",
       "    <tr>\n",
       "      <th>2</th>\n",
       "      <td>1406279087149223936</td>\n",
       "      <td>@Desbihada Sinceramente, creo que depende de l...</td>\n",
       "    </tr>\n",
       "    <tr>\n",
       "      <th>3</th>\n",
       "      <td>1406279049211691012</td>\n",
       "      <td>@silaswave @Desbihada Bueno, yo sí he hablado ...</td>\n",
       "    </tr>\n",
       "    <tr>\n",
       "      <th>4</th>\n",
       "      <td>1406278977841516553</td>\n",
       "      <td>RT @BeatrizGimeno1: Ayer asistí a la presentac...</td>\n",
       "    </tr>\n",
       "    <tr>\n",
       "      <th>...</th>\n",
       "      <td>...</td>\n",
       "      <td>...</td>\n",
       "    </tr>\n",
       "    <tr>\n",
       "      <th>495</th>\n",
       "      <td>1406237155488374785</td>\n",
       "      <td>@maneskinat felicidades lesbiana te amo</td>\n",
       "    </tr>\n",
       "    <tr>\n",
       "      <th>496</th>\n",
       "      <td>1406237083602239490</td>\n",
       "      <td>Cada día más orgullosa de ser lesbiana y no ce...</td>\n",
       "    </tr>\n",
       "    <tr>\n",
       "      <th>497</th>\n",
       "      <td>1406236954514100226</td>\n",
       "      <td>RT @Desbihada: Una cosa más antes de ausentarm...</td>\n",
       "    </tr>\n",
       "    <tr>\n",
       "      <th>498</th>\n",
       "      <td>1406236573637791747</td>\n",
       "      <td>el episodio de los simpsons en el q marge se v...</td>\n",
       "    </tr>\n",
       "    <tr>\n",
       "      <th>499</th>\n",
       "      <td>1406236372143382531</td>\n",
       "      <td>RT @Luestevez__: yo lesbiana subiendo una foto...</td>\n",
       "    </tr>\n",
       "  </tbody>\n",
       "</table>\n",
       "<p>500 rows × 2 columns</p>\n",
       "</div>"
      ],
      "text/plain": [
       "                TWEET_ID                                         COMENTARIO\n",
       "0    1406279207190208513  RT @prxttylesbian: odio que me digan ''sos re ...\n",
       "1    1406279093734281219  RT @AlbaliaFics: soy lesbiana… muy muy lesbian...\n",
       "2    1406279087149223936  @Desbihada Sinceramente, creo que depende de l...\n",
       "3    1406279049211691012  @silaswave @Desbihada Bueno, yo sí he hablado ...\n",
       "4    1406278977841516553  RT @BeatrizGimeno1: Ayer asistí a la presentac...\n",
       "..                   ...                                                ...\n",
       "495  1406237155488374785            @maneskinat felicidades lesbiana te amo\n",
       "496  1406237083602239490  Cada día más orgullosa de ser lesbiana y no ce...\n",
       "497  1406236954514100226  RT @Desbihada: Una cosa más antes de ausentarm...\n",
       "498  1406236573637791747  el episodio de los simpsons en el q marge se v...\n",
       "499  1406236372143382531  RT @Luestevez__: yo lesbiana subiendo una foto...\n",
       "\n",
       "[500 rows x 2 columns]"
      ]
     },
     "execution_count": 83,
     "metadata": {},
     "output_type": "execute_result"
    }
   ],
   "source": [
    "tweets= python2[['TWEET_ID','COMENTARIO']]\n",
    "tweets"
   ]
  },
  {
   "cell_type": "code",
   "execution_count": 1,
   "metadata": {},
   "outputs": [],
   "source": [
    "#tweets.to_csv('tweets.csv',sep=',', encoding='utf-8',index=False)"
   ]
  },
  {
   "cell_type": "code",
   "execution_count": 86,
   "metadata": {},
   "outputs": [],
   "source": [
    "#Sacando url's de todos los tweets\n",
    "linktweets=[]\n",
    "for info in tweets.TWEET_ID:\n",
    "    link='https://twitter.com/LGBTQ/status/'+str(info)\n",
    "    if link not in linktweets:\n",
    "        linktweets.append(link)"
   ]
  },
  {
   "cell_type": "code",
   "execution_count": 87,
   "metadata": {},
   "outputs": [],
   "source": [
    "link500 = []\n",
    "for link in linktweets:\n",
    "    link500.append(link)"
   ]
  },
  {
   "cell_type": "code",
   "execution_count": 89,
   "metadata": {},
   "outputs": [],
   "source": [
    "def sacando_comentarios(cad):\n",
    "    options =  webdriver.ChromeOptions()\n",
    "    options.add_argument('--start-maximized')\n",
    "    options.add_argument('--disable-extensions')\n",
    "    executable_path = r\"C:\\Users\\melis\\Analitica a la web\\chromedriver\"\n",
    "    driver = webdriver.Chrome(executable_path = executable_path, chrome_options=options)\n",
    "    driver.maximize_window()\n",
    "    time.sleep(3)\n",
    "    # Inicializamos el navegador en la url\n",
    "    driver.get(cad)\n",
    "    time.sleep(3)\n",
    "    # conseguir altura de pagina\n",
    "    last_position = driver.execute_script(\"return window.pageYOffset;\")\n",
    "    html = requests.get(cad).content\n",
    "\n",
    "    comment_tweet=[]\n",
    "    while True:\n",
    "        html = driver.page_source\n",
    "        soup = bs(html,'lxml')\n",
    "        comments = soup.find_all('div', {'class': 'css-901oao r-1fmj7o5 r-1qd0xha r-a023e6 r-16dba41 r-rjixqe r-bcqeeo r-bnwqim r-qvutc0'})\n",
    "        for comment in comments:\n",
    "            comment_tweet.append(comment.text)\n",
    "        driver.execute_script('window.scrollTo(0,document.body.scrollHeight);')\n",
    "        time.sleep(1)\n",
    "        curr_position = driver.execute_script(\"return window.pageYOffset;\")\n",
    "        if last_position == curr_position:\n",
    "            break\n",
    "        else:\n",
    "            last_position = curr_position     \n",
    "    driver.quit()\n",
    "    return comment_tweet"
   ]
  },
  {
   "cell_type": "code",
   "execution_count": 90,
   "metadata": {},
   "outputs": [],
   "source": [
    "def sacando_id(link):\n",
    "    sep = link.split('/')\n",
    "    ide = sep[len(sep)-1]\n",
    "    return(ide)"
   ]
  },
  {
   "cell_type": "code",
   "execution_count": 1,
   "metadata": {},
   "outputs": [],
   "source": [
    "comentarios=[]\n",
    "for link in tqdm(link500):\n",
    "    ide = sacando_id(link)\n",
    "    tweet_comentario=sacando_comentarios(link)\n",
    "    for texto in tweet_comentario:\n",
    "        fila=[ide,texto]\n",
    "        print(fila)\n",
    "        if fila not in comentarios:\n",
    "            comentarios.append(fila)"
   ]
  },
  {
   "cell_type": "code",
   "execution_count": 93,
   "metadata": {},
   "outputs": [],
   "source": [
    "comentarios_dataframe= pd.DataFrame(comentarios, columns=['TWEET_ID','COMENTARIO'])"
   ]
  },
  {
   "cell_type": "code",
   "execution_count": 95,
   "metadata": {},
   "outputs": [],
   "source": [
    "comentarios_dataframe.to_excel('Data/comentarios_lesbiana_1.xlsx')"
   ]
  }
 ],
 "metadata": {
  "kernelspec": {
   "display_name": "Python 3",
   "language": "python",
   "name": "python3"
  },
  "language_info": {
   "codemirror_mode": {
    "name": "ipython",
    "version": 3
   },
   "file_extension": ".py",
   "mimetype": "text/x-python",
   "name": "python",
   "nbconvert_exporter": "python",
   "pygments_lexer": "ipython3",
   "version": "3.8.5"
  }
 },
 "nbformat": 4,
 "nbformat_minor": 4
}
