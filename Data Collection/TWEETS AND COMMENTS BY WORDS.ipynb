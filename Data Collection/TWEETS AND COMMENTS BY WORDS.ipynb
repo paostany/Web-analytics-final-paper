{
 "cells": [
  {
   "cell_type": "code",
   "execution_count": 1,
   "metadata": {},
   "outputs": [],
   "source": [
    "#Libraries to use\n",
    "from selenium import webdriver\n",
    "import tweepy\n",
    "import csv\n",
    "import pandas as pd\n",
    "from time import sleep\n",
    "from selenium.common.exceptions import NoSuchElementException\n",
    "from selenium import webdriver\n",
    "from selenium.webdriver.support.ui import WebDriverWait\n",
    "from selenium.webdriver.support import expected_conditions as EC\n",
    "from selenium.webdriver.common.by import By\n",
    "from bs4 import BeautifulSoup\n",
    "import requests\n",
    "import re\n",
    "from time import sleep"
   ]
  },
  {
   "cell_type": "code",
   "execution_count": 2,
   "metadata": {},
   "outputs": [],
   "source": [
    "#Define token access\n",
    "costumer_key = '3Fpt5yX0rRcx3HltSvOMLWcnN'\n",
    "costumer_secret_key = 'WqPVb5ELVOORF2BFM059WqNJCYxXlHRKBcqaQ5Re05J6CV1ZVc'\n",
    "access_token = '1393767320611442692-nLgQB8fzUWpqFRYqJcBurY8SGrnaCx'\n",
    "access_token_secret = 'RsLQDfSDYHryndKlJ9CU7rI8hvE3Qlw5hpBhuoJbiqIdH'"
   ]
  },
  {
   "cell_type": "code",
   "execution_count": 3,
   "metadata": {},
   "outputs": [],
   "source": [
    "#Twitter authentication \n",
    "auth = tweepy.OAuthHandler(costumer_key,costumer_secret_key)\n",
    "auth.set_access_token(access_token,access_token_secret)\n",
    "#Instance\n",
    "api = tweepy.API(auth, wait_on_rate_limit_notify=True)"
   ]
  },
  {
   "cell_type": "code",
   "execution_count": 4,
   "metadata": {},
   "outputs": [],
   "source": [
    "#Define list to use\n",
    "list_tweetsID = []\n",
    "list_tweets = []"
   ]
  },
  {
   "cell_type": "markdown",
   "metadata": {},
   "source": [
    "### Palabras a usar:\n",
    "- LGBT, LGBTQ, LGBI+\n",
    "- Homosexual\n",
    "- Gay\n",
    "- Lesbiana"
   ]
  },
  {
   "cell_type": "code",
   "execution_count": 8,
   "metadata": {},
   "outputs": [],
   "source": [
    "#LGBT word example. We run same code for each word\n",
    "for tweet in tweepy.Cursor(api.search, q=\"LGBT\", lang=\"es\").items(3000):\n",
    "    list_tweetsID.append(tweet.id)\n",
    "    list_tweets.append(tweet.text)"
   ]
  },
  {
   "cell_type": "code",
   "execution_count": 9,
   "metadata": {},
   "outputs": [
    {
     "data": {
      "text/plain": [
       "2651"
      ]
     },
     "execution_count": 9,
     "metadata": {},
     "output_type": "execute_result"
    }
   ],
   "source": [
    "len(list_tweetsID)"
   ]
  },
  {
   "cell_type": "code",
   "execution_count": 10,
   "metadata": {},
   "outputs": [],
   "source": [
    "dictt = dict(zip(list_tweetsID, list_tweets))"
   ]
  },
  {
   "cell_type": "code",
   "execution_count": 20,
   "metadata": {},
   "outputs": [],
   "source": [
    "lista_tweets = pd.DataFrame(dictt.items(),  columns = ['TWEET_ID', 'TWEET'] )"
   ]
  },
  {
   "cell_type": "code",
   "execution_count": 13,
   "metadata": {},
   "outputs": [],
   "source": [
    "#Put tweet into excel\n",
    "lista_tweets.to_excel('Data/tweets_LGBT1.xlsx')"
   ]
  },
  {
   "cell_type": "code",
   "execution_count": 14,
   "metadata": {},
   "outputs": [],
   "source": [
    "list_urls = []\n",
    "for ide in list_tweetsID:\n",
    "    list_urls.append('https://twitter.com/LGBTQ/status/' + str(ide))"
   ]
  },
  {
   "cell_type": "code",
   "execution_count": 19,
   "metadata": {},
   "outputs": [],
   "source": [
    "def sacando_comentarios(cad):\n",
    "    options =  webdriver.ChromeOptions()\n",
    "    options.add_argument('--start-maximized')\n",
    "    options.add_argument('--disable-extensions')\n",
    "    executable_path = r\"C:\\Users\\Paola\\AnaliticaWeb\\chromedriver.exe\"\n",
    "    driver = webdriver.Chrome(executable_path = executable_path, chrome_options=options)\n",
    "    driver.maximize_window()\n",
    "    time.sleep(3)\n",
    "    # Inicializamos el navegador en la url\n",
    "    driver.get(cad)\n",
    "    time.sleep(3)\n",
    "    # conseguir altura de pagina\n",
    "    last_position = driver.execute_script(\"return window.pageYOffset;\")\n",
    "    html = requests.get(cad).content\n",
    "\n",
    "    comment_tweet=[]\n",
    "    while True:\n",
    "        html = driver.page_source\n",
    "        soup = bs(html,'lxml')\n",
    "        comments = soup.find_all('div', {'class': 'css-901oao r-1fmj7o5 r-1qd0xha r-a023e6 r-16dba41 r-rjixqe r-bcqeeo r-bnwqim r-qvutc0'})\n",
    "        for comment in comments:\n",
    "            comment_tweet.append(comment.text)\n",
    "        driver.execute_script('window.scrollTo(0,document.body.scrollHeight);')\n",
    "        time.sleep(1)\n",
    "        curr_position = driver.execute_script(\"return window.pageYOffset;\")\n",
    "        if last_position == curr_position:\n",
    "            break\n",
    "        else:\n",
    "            last_position = curr_position     \n",
    "    driver.quit()\n",
    "    return comment_tweet"
   ]
  },
  {
   "cell_type": "code",
   "execution_count": 16,
   "metadata": {},
   "outputs": [],
   "source": [
    "def sacando_id(link):\n",
    "    sep = link.split('/')\n",
    "    ide = sep[len(sep)-1]\n",
    "    return(ide)"
   ]
  },
  {
   "cell_type": "code",
   "execution_count": 17,
   "metadata": {},
   "outputs": [],
   "source": [
    "comentarios=[]"
   ]
  },
  {
   "cell_type": "code",
   "execution_count": 18,
   "metadata": {},
   "outputs": [],
   "source": [
    "for link in list_urls:\n",
    "    ide = sacando_id(link)\n",
    "    tweet_comentario=sacando_comentarios(link)\n",
    "    for texto in tweet_comentario:\n",
    "        fila=[ide,texto]\n",
    "        if fila not in comentarios:\n",
    "            comentarios.append(fila)"
   ]
  },
  {
   "cell_type": "code",
   "execution_count": 64,
   "metadata": {},
   "outputs": [],
   "source": [
    "comentarios_dataframe= pd.DataFrame(comentarios, columns=['TWEET_ID','COMENTARIO'])"
   ]
  },
  {
   "cell_type": "code",
   "execution_count": 66,
   "metadata": {},
   "outputs": [],
   "source": [
    "comentarios_dataframe.to_excel('Data/comentarios_LGBT1.xlsx')"
   ]
  }
 ],
 "metadata": {
  "kernelspec": {
   "display_name": "Python 3",
   "language": "python",
   "name": "python3"
  },
  "language_info": {
   "codemirror_mode": {
    "name": "ipython",
    "version": 3
   },
   "file_extension": ".py",
   "mimetype": "text/x-python",
   "name": "python",
   "nbconvert_exporter": "python",
   "pygments_lexer": "ipython3",
   "version": "3.8.5"
  }
 },
 "nbformat": 4,
 "nbformat_minor": 4
}
