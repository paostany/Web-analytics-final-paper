{
 "cells": [
  {
   "cell_type": "code",
   "execution_count": 1,
   "metadata": {},
   "outputs": [],
   "source": [
    "import tweepy\n",
    "import requests \n",
    "from bs4 import BeautifulSoup as bs\n",
    "import pandas as pd\n",
    "from tqdm import tqdm\n",
    "from selenium import webdriver\n",
    "from selenium.webdriver.support.ui import WebDriverWait\n",
    "from selenium.webdriver.support import expected_conditions as EC\n",
    "from selenium.webdriver.common.by import By\n",
    "import time"
   ]
  },
  {
   "cell_type": "code",
   "execution_count": 2,
   "metadata": {},
   "outputs": [],
   "source": [
    "#Define token access\n",
    "costumer_key = '3Fpt5yX0rRcx3HltSvOMLWcnN'\n",
    "costumer_secret_key = 'WqPVb5ELVOORF2BFM059WqNJCYxXlHRKBcqaQ5Re05J6CV1ZVc'\n",
    "access_token = '1393767320611442692-nLgQB8fzUWpqFRYqJcBurY8SGrnaCx'\n",
    "access_token_secret = 'RsLQDfSDYHryndKlJ9CU7rI8hvE3Qlw5hpBhuoJbiqIdH'"
   ]
  },
  {
   "cell_type": "code",
   "execution_count": 3,
   "metadata": {},
   "outputs": [],
   "source": [
    "#Twitter authentication \n",
    "auth = tweepy.OAuthHandler(costumer_key,costumer_secret_key)\n",
    "auth.set_access_token(access_token,access_token_secret)\n",
    "#Instance\n",
    "api = tweepy.API(auth, wait_on_rate_limit_notify=True)"
   ]
  },
  {
   "cell_type": "code",
   "execution_count": 4,
   "metadata": {},
   "outputs": [],
   "source": [
    "all_replies = []"
   ]
  },
  {
   "cell_type": "code",
   "execution_count": 7,
   "metadata": {},
   "outputs": [],
   "source": [
    "def find_tweet_ids(name, iterations):\n",
    "    global api\n",
    "    tweet_ids = []\n",
    "    for _ in range(iterations):\n",
    "        cuenta = api.get_user(name)\n",
    "        statuses = cuenta.timeline(count = 1000, tweet_mode='extended')\n",
    "        for status in statuses:\n",
    "            tweet_ids.append(str(status.id))\n",
    "    return set(tweet_ids)"
   ]
  },
  {
   "cell_type": "markdown",
   "metadata": {},
   "source": [
    "## Cuentas para comentarios\n",
    "- @MarchaOrgulloPe\n",
    "- @LgbtPeru"
   ]
  },
  {
   "cell_type": "code",
   "execution_count": 8,
   "metadata": {
    "scrolled": true
   },
   "outputs": [],
   "source": [
    "#First Account\n",
    "lis_id2 = list(find_tweet_ids('@MarchaOrgulloPe', 10))"
   ]
  },
  {
   "cell_type": "code",
   "execution_count": 9,
   "metadata": {},
   "outputs": [
    {
     "data": {
      "text/plain": [
       "200"
      ]
     },
     "execution_count": 9,
     "metadata": {},
     "output_type": "execute_result"
    }
   ],
   "source": [
    "len(lis_id2)"
   ]
  },
  {
   "cell_type": "code",
   "execution_count": 12,
   "metadata": {},
   "outputs": [],
   "source": [
    "def get_replies(cad):\n",
    "    options =  webdriver.ChromeOptions()\n",
    "    options.add_argument('--start-maximized')\n",
    "    options.add_argument('--disable-extensions')\n",
    "    executable_path = r\"C:\\Users\\Paola\\AnaliticaWeb\\chromedriver.exe\"\n",
    "    driver = webdriver.Chrome(executable_path = executable_path, chrome_options=options)\n",
    "    driver.maximize_window()\n",
    "    time.sleep(3)\n",
    "    # Inicializamos el navegador en la url\n",
    "    driver.get(cad)\n",
    "    time.sleep(3)\n",
    "    # conseguir altura de pagina\n",
    "    last_position = driver.execute_script(\"return window.pageYOffset;\")\n",
    "    html = requests.get(cad).content\n",
    "\n",
    "    comment_tweet=[]\n",
    "    while True:\n",
    "        html = driver.page_source\n",
    "        soup = bs(html,'lxml')\n",
    "        comments = soup.find_all('div', {'class': 'css-901oao r-1fmj7o5 r-1qd0xha r-a023e6 r-16dba41 r-rjixqe r-bcqeeo r-bnwqim r-qvutc0'})\n",
    "        for comment in comments:\n",
    "            comment_tweet.append(comment.text)\n",
    "        driver.execute_script('window.scrollTo(0,document.body.scrollHeight);')\n",
    "        time.sleep(1)\n",
    "        curr_position = driver.execute_script(\"return window.pageYOffset;\")\n",
    "        if last_position == curr_position:\n",
    "            break\n",
    "        else:\n",
    "            last_position = curr_position     \n",
    "    driver.quit()\n",
    "    return comment_tweet"
   ]
  },
  {
   "cell_type": "code",
   "execution_count": 17,
   "metadata": {},
   "outputs": [
    {
     "name": "stderr",
     "output_type": "stream",
     "text": [
      "  0%|                                                                                          | 0/200 [00:00<?, ?it/s]<ipython-input-12-3e9702b4a0f0>:6: DeprecationWarning: use options instead of chrome_options\n",
      "  driver = webdriver.Chrome(executable_path = executable_path, chrome_options=options)\n",
      "100%|██████████████████████████████████████████████████████████████████████████████| 200/200 [1:34:14<00:00, 28.27s/it]\n"
     ]
    }
   ],
   "source": [
    "replies_ac1 = []\n",
    "for id_ in tqdm(lis_id2):\n",
    "    link = 'https://twitter.com/MarchaOrgulloPe/status/'+id_\n",
    "    tweet_replies = get_replies(link)\n",
    "    for texto in tweet_replies:\n",
    "        fila = [ id_ , texto ]\n",
    "        if fila not in replies_ac1:\n",
    "            replies_ac1.append(fila)"
   ]
  },
  {
   "cell_type": "code",
   "execution_count": 19,
   "metadata": {},
   "outputs": [],
   "source": [
    "comentarios_dataframe= pd.DataFrame(replies_ac1, columns=['TWEET_ID','COMENTARIO'])"
   ]
  },
  {
   "cell_type": "code",
   "execution_count": 20,
   "metadata": {},
   "outputs": [
    {
     "data": {
      "text/html": [
       "<div>\n",
       "<style scoped>\n",
       "    .dataframe tbody tr th:only-of-type {\n",
       "        vertical-align: middle;\n",
       "    }\n",
       "\n",
       "    .dataframe tbody tr th {\n",
       "        vertical-align: top;\n",
       "    }\n",
       "\n",
       "    .dataframe thead th {\n",
       "        text-align: right;\n",
       "    }\n",
       "</style>\n",
       "<table border=\"1\" class=\"dataframe\">\n",
       "  <thead>\n",
       "    <tr style=\"text-align: right;\">\n",
       "      <th></th>\n",
       "      <th>TWEET_ID</th>\n",
       "      <th>COMENTARIO</th>\n",
       "    </tr>\n",
       "  </thead>\n",
       "  <tbody>\n",
       "    <tr>\n",
       "      <th>0</th>\n",
       "      <td>1405656713500450817</td>\n",
       "      <td>HILO \\nEn las elecciones del año 2016, la disc...</td>\n",
       "    </tr>\n",
       "    <tr>\n",
       "      <th>1</th>\n",
       "      <td>1405656713500450817</td>\n",
       "      <td>No olvidamos el pacto que firmó la señora Keik...</td>\n",
       "    </tr>\n",
       "    <tr>\n",
       "      <th>2</th>\n",
       "      <td>1405656713500450817</td>\n",
       "      <td>El Colectivo Marcha del Orgullo, organizador d...</td>\n",
       "    </tr>\n",
       "    <tr>\n",
       "      <th>3</th>\n",
       "      <td>1400516588470681604</td>\n",
       "      <td>ORGULLO TAMBIÉN ES AUTOCUIDADO \\nReafirmamos n...</td>\n",
       "    </tr>\n",
       "    <tr>\n",
       "      <th>4</th>\n",
       "      <td>1400516588470681604</td>\n",
       "      <td>Así mismo, aclaramos que cualquier persona que...</td>\n",
       "    </tr>\n",
       "    <tr>\n",
       "      <th>...</th>\n",
       "      <td>...</td>\n",
       "      <td>...</td>\n",
       "    </tr>\n",
       "    <tr>\n",
       "      <th>181</th>\n",
       "      <td>1395777899085668354</td>\n",
       "      <td>Por esto y mucho más marcharemos este sábado 2...</td>\n",
       "    </tr>\n",
       "    <tr>\n",
       "      <th>182</th>\n",
       "      <td>1395777899085668354</td>\n",
       "      <td>Traer carteles, banderolas y banderas LGBTIQ+....</td>\n",
       "    </tr>\n",
       "    <tr>\n",
       "      <th>183</th>\n",
       "      <td>1381021758308950021</td>\n",
       "      <td>Un voto con convicción jamás será un voto perdido</td>\n",
       "    </tr>\n",
       "    <tr>\n",
       "      <th>184</th>\n",
       "      <td>1381021758308950021</td>\n",
       "      <td>Votar por quienes tienen el compromiso de logr...</td>\n",
       "    </tr>\n",
       "    <tr>\n",
       "      <th>185</th>\n",
       "      <td>1381021758308950021</td>\n",
       "      <td>Así será.</td>\n",
       "    </tr>\n",
       "  </tbody>\n",
       "</table>\n",
       "<p>186 rows × 2 columns</p>\n",
       "</div>"
      ],
      "text/plain": [
       "                TWEET_ID                                         COMENTARIO\n",
       "0    1405656713500450817  HILO \\nEn las elecciones del año 2016, la disc...\n",
       "1    1405656713500450817  No olvidamos el pacto que firmó la señora Keik...\n",
       "2    1405656713500450817  El Colectivo Marcha del Orgullo, organizador d...\n",
       "3    1400516588470681604  ORGULLO TAMBIÉN ES AUTOCUIDADO \\nReafirmamos n...\n",
       "4    1400516588470681604  Así mismo, aclaramos que cualquier persona que...\n",
       "..                   ...                                                ...\n",
       "181  1395777899085668354  Por esto y mucho más marcharemos este sábado 2...\n",
       "182  1395777899085668354  Traer carteles, banderolas y banderas LGBTIQ+....\n",
       "183  1381021758308950021  Un voto con convicción jamás será un voto perdido\n",
       "184  1381021758308950021  Votar por quienes tienen el compromiso de logr...\n",
       "185  1381021758308950021                                         Así será. \n",
       "\n",
       "[186 rows x 2 columns]"
      ]
     },
     "execution_count": 20,
     "metadata": {},
     "output_type": "execute_result"
    }
   ],
   "source": [
    "comentarios_dataframe"
   ]
  },
  {
   "cell_type": "code",
   "execution_count": 21,
   "metadata": {},
   "outputs": [],
   "source": [
    "comentarios_dataframe.to_excel('Data/replies_account1.xlsx')"
   ]
  }
 ],
 "metadata": {
  "kernelspec": {
   "display_name": "Python 3",
   "language": "python",
   "name": "python3"
  },
  "language_info": {
   "codemirror_mode": {
    "name": "ipython",
    "version": 3
   },
   "file_extension": ".py",
   "mimetype": "text/x-python",
   "name": "python",
   "nbconvert_exporter": "python",
   "pygments_lexer": "ipython3",
   "version": "3.8.5"
  }
 },
 "nbformat": 4,
 "nbformat_minor": 4
}
